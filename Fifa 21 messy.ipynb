{
 "cells": [
  {
   "cell_type": "markdown",
   "metadata": {},
   "source": [
    "# Inspiration\n",
    "###  1 Convert the height and weight columns to numerical forms\n",
    "### 2 Remove the unnecessary newline characters from all columns that have them.\n",
    "### 3 Based on the 'Joined' column, check which players have been playing at a club for more than 10 years!\n",
    "### 4 'Value', 'Wage' and \"Release Clause' are string columns. Convert them to numbers. For eg, \"M\" in value column is Million, so multiply the row values by 1,000,000, etc.\n",
    "### 5 Some columns have 'star' characters. Strip those columns of these stars and make the columns numerical\n",
    "### 6 Which players are highly valuable but still underpaid (on low wages)? (hint: scatter plot between wage and value)"
   ]
  },
  {
   "cell_type": "code",
   "execution_count": 3,
   "metadata": {},
   "outputs": [],
   "source": [
    "import pandas as pd"
   ]
  },
  {
   "cell_type": "code",
   "execution_count": 4,
   "metadata": {},
   "outputs": [],
   "source": [
    "df = pd.read_csv('fifa21 raw data v2.csv')"
   ]
  },
  {
   "cell_type": "code",
   "execution_count": null,
   "metadata": {},
   "outputs": [],
   "source": []
  },
  {
   "cell_type": "code",
   "execution_count": null,
   "metadata": {},
   "outputs": [],
   "source": []
  },
  {
   "cell_type": "code",
   "execution_count": null,
   "metadata": {},
   "outputs": [],
   "source": []
  },
  {
   "cell_type": "markdown",
   "metadata": {},
   "source": [
    "## Sub-Task 1 : convert foot to cm"
   ]
  },
  {
   "cell_type": "code",
   "execution_count": 5,
   "metadata": {},
   "outputs": [],
   "source": [
    "df['Height final'] = df['Height']"
   ]
  },
  {
   "cell_type": "code",
   "execution_count": 6,
   "metadata": {},
   "outputs": [],
   "source": [
    "def foot_cm(val):\n",
    "    f = val.split(\"'\")[0]\n",
    "    i = val.split(\"'\")[1].replace('\"','')\n",
    "    return ( (int(f)*12 + int(i)) * 2.54)"
   ]
  },
  {
   "cell_type": "code",
   "execution_count": 7,
   "metadata": {},
   "outputs": [],
   "source": [
    "df['Height final'] = df['Height final'].apply(lambda x : foot_cm(x) if 'cm' not in x else x)"
   ]
  },
  {
   "cell_type": "code",
   "execution_count": 8,
   "metadata": {},
   "outputs": [],
   "source": [
    "df['Height final'] = df['Height final'].apply(lambda x : x.replace('cm',\"\") if 'cm' in str(x) else x)"
   ]
  },
  {
   "cell_type": "code",
   "execution_count": 9,
   "metadata": {},
   "outputs": [],
   "source": [
    "df['Height final'] = df['Height final'].apply(lambda x : int(x))"
   ]
  },
  {
   "cell_type": "code",
   "execution_count": 10,
   "metadata": {},
   "outputs": [],
   "source": [
    "df.rename(columns={'Height final':'Height_cm'},inplace=True)"
   ]
  },
  {
   "cell_type": "markdown",
   "metadata": {},
   "source": [
    "## Sub-Task 2 : convert lbs to kg"
   ]
  },
  {
   "cell_type": "code",
   "execution_count": 11,
   "metadata": {},
   "outputs": [],
   "source": [
    "df['Weight_kg'] = df['Weight']\n"
   ]
  },
  {
   "cell_type": "code",
   "execution_count": 12,
   "metadata": {},
   "outputs": [],
   "source": [
    "def lbs_kg(val):\n",
    "    f = val.replace(\"lbs\",\"\")\n",
    "    return ( int(int(f) * 0.45359237) )"
   ]
  },
  {
   "cell_type": "code",
   "execution_count": 13,
   "metadata": {},
   "outputs": [],
   "source": [
    "df['Weight_kg'] = df['Weight_kg'].apply(lambda x : lbs_kg(x) if 'lbs' in x else int(x.replace('kg','')))"
   ]
  },
  {
   "cell_type": "code",
   "execution_count": null,
   "metadata": {},
   "outputs": [],
   "source": []
  },
  {
   "cell_type": "markdown",
   "metadata": {},
   "source": [
    "## Task 3 : players have been playing at a club for more than 10 years"
   ]
  },
  {
   "cell_type": "code",
   "execution_count": null,
   "metadata": {},
   "outputs": [],
   "source": []
  },
  {
   "cell_type": "code",
   "execution_count": null,
   "metadata": {},
   "outputs": [],
   "source": []
  },
  {
   "cell_type": "code",
   "execution_count": 14,
   "metadata": {},
   "outputs": [],
   "source": [
    "df[\"Joined_year\"] = df['Joined'].apply(lambda x : x.split(',')[1])"
   ]
  },
  {
   "cell_type": "code",
   "execution_count": 15,
   "metadata": {},
   "outputs": [],
   "source": [
    "df[\"Joined_year\"] = df[\"Joined_year\"].str.strip()"
   ]
  },
  {
   "cell_type": "code",
   "execution_count": 16,
   "metadata": {},
   "outputs": [],
   "source": [
    "df[\"Joined_year\"] = df[\"Joined_year\"].astype('int')"
   ]
  },
  {
   "cell_type": "code",
   "execution_count": 17,
   "metadata": {},
   "outputs": [],
   "source": [
    "df[\"years_with_club\"] = 2021 - df[\"Joined_year\"]"
   ]
  },
  {
   "cell_type": "code",
   "execution_count": 18,
   "metadata": {},
   "outputs": [
    {
     "data": {
      "text/html": [
       "<div>\n",
       "<style scoped>\n",
       "    .dataframe tbody tr th:only-of-type {\n",
       "        vertical-align: middle;\n",
       "    }\n",
       "\n",
       "    .dataframe tbody tr th {\n",
       "        vertical-align: top;\n",
       "    }\n",
       "\n",
       "    .dataframe thead th {\n",
       "        text-align: right;\n",
       "    }\n",
       "</style>\n",
       "<table border=\"1\" class=\"dataframe\">\n",
       "  <thead>\n",
       "    <tr style=\"text-align: right;\">\n",
       "      <th></th>\n",
       "      <th>ID</th>\n",
       "      <th>Name</th>\n",
       "      <th>LongName</th>\n",
       "      <th>photoUrl</th>\n",
       "      <th>playerUrl</th>\n",
       "      <th>Nationality</th>\n",
       "      <th>Age</th>\n",
       "      <th>↓OVA</th>\n",
       "      <th>POT</th>\n",
       "      <th>Club</th>\n",
       "      <th>...</th>\n",
       "      <th>SHO</th>\n",
       "      <th>PAS</th>\n",
       "      <th>DRI</th>\n",
       "      <th>DEF</th>\n",
       "      <th>PHY</th>\n",
       "      <th>Hits</th>\n",
       "      <th>Height_cm</th>\n",
       "      <th>Weight_kg</th>\n",
       "      <th>Joined_year</th>\n",
       "      <th>years_with_club</th>\n",
       "    </tr>\n",
       "  </thead>\n",
       "  <tbody>\n",
       "    <tr>\n",
       "      <th>0</th>\n",
       "      <td>158023</td>\n",
       "      <td>L. Messi</td>\n",
       "      <td>Lionel Messi</td>\n",
       "      <td>https://cdn.sofifa.com/players/158/023/21_60.png</td>\n",
       "      <td>http://sofifa.com/player/158023/lionel-messi/2...</td>\n",
       "      <td>Argentina</td>\n",
       "      <td>33</td>\n",
       "      <td>93</td>\n",
       "      <td>93</td>\n",
       "      <td>\\n\\n\\n\\nFC Barcelona</td>\n",
       "      <td>...</td>\n",
       "      <td>92</td>\n",
       "      <td>91</td>\n",
       "      <td>95</td>\n",
       "      <td>38</td>\n",
       "      <td>65</td>\n",
       "      <td>771</td>\n",
       "      <td>170</td>\n",
       "      <td>72</td>\n",
       "      <td>2004</td>\n",
       "      <td>17</td>\n",
       "    </tr>\n",
       "    <tr>\n",
       "      <th>14</th>\n",
       "      <td>167495</td>\n",
       "      <td>M. Neuer</td>\n",
       "      <td>Manuel Neuer</td>\n",
       "      <td>https://cdn.sofifa.com/players/167/495/21_60.png</td>\n",
       "      <td>http://sofifa.com/player/167495/manuel-neuer/2...</td>\n",
       "      <td>Germany</td>\n",
       "      <td>34</td>\n",
       "      <td>89</td>\n",
       "      <td>89</td>\n",
       "      <td>\\n\\n\\n\\nFC Bayern München</td>\n",
       "      <td>...</td>\n",
       "      <td>87</td>\n",
       "      <td>91</td>\n",
       "      <td>89</td>\n",
       "      <td>57</td>\n",
       "      <td>86</td>\n",
       "      <td>118</td>\n",
       "      <td>193</td>\n",
       "      <td>92</td>\n",
       "      <td>2011</td>\n",
       "      <td>10</td>\n",
       "    </tr>\n",
       "    <tr>\n",
       "      <th>15</th>\n",
       "      <td>165153</td>\n",
       "      <td>K. Benzema</td>\n",
       "      <td>Karim Benzema</td>\n",
       "      <td>https://cdn.sofifa.com/players/165/153/21_60.png</td>\n",
       "      <td>http://sofifa.com/player/165153/karim-benzema/...</td>\n",
       "      <td>France</td>\n",
       "      <td>32</td>\n",
       "      <td>89</td>\n",
       "      <td>89</td>\n",
       "      <td>\\n\\n\\n\\nReal Madrid</td>\n",
       "      <td>...</td>\n",
       "      <td>85</td>\n",
       "      <td>81</td>\n",
       "      <td>86</td>\n",
       "      <td>40</td>\n",
       "      <td>76</td>\n",
       "      <td>216</td>\n",
       "      <td>185</td>\n",
       "      <td>81</td>\n",
       "      <td>2009</td>\n",
       "      <td>12</td>\n",
       "    </tr>\n",
       "    <tr>\n",
       "      <th>16</th>\n",
       "      <td>155862</td>\n",
       "      <td>Sergio Ramos</td>\n",
       "      <td>Sergio Ramos García</td>\n",
       "      <td>https://cdn.sofifa.com/players/155/862/21_60.png</td>\n",
       "      <td>http://sofifa.com/player/155862/sergio-ramos-g...</td>\n",
       "      <td>Spain</td>\n",
       "      <td>34</td>\n",
       "      <td>89</td>\n",
       "      <td>89</td>\n",
       "      <td>\\n\\n\\n\\nReal Madrid</td>\n",
       "      <td>...</td>\n",
       "      <td>70</td>\n",
       "      <td>76</td>\n",
       "      <td>73</td>\n",
       "      <td>88</td>\n",
       "      <td>85</td>\n",
       "      <td>212</td>\n",
       "      <td>184</td>\n",
       "      <td>82</td>\n",
       "      <td>2005</td>\n",
       "      <td>16</td>\n",
       "    </tr>\n",
       "    <tr>\n",
       "      <th>17</th>\n",
       "      <td>153079</td>\n",
       "      <td>S. Agüero</td>\n",
       "      <td>Sergio Agüero</td>\n",
       "      <td>https://cdn.sofifa.com/players/153/079/21_60.png</td>\n",
       "      <td>http://sofifa.com/player/153079/sergio-aguero/...</td>\n",
       "      <td>Argentina</td>\n",
       "      <td>32</td>\n",
       "      <td>89</td>\n",
       "      <td>89</td>\n",
       "      <td>\\n\\n\\n\\nManchester City</td>\n",
       "      <td>...</td>\n",
       "      <td>90</td>\n",
       "      <td>77</td>\n",
       "      <td>88</td>\n",
       "      <td>33</td>\n",
       "      <td>73</td>\n",
       "      <td>154</td>\n",
       "      <td>173</td>\n",
       "      <td>70</td>\n",
       "      <td>2011</td>\n",
       "      <td>10</td>\n",
       "    </tr>\n",
       "    <tr>\n",
       "      <th>...</th>\n",
       "      <td>...</td>\n",
       "      <td>...</td>\n",
       "      <td>...</td>\n",
       "      <td>...</td>\n",
       "      <td>...</td>\n",
       "      <td>...</td>\n",
       "      <td>...</td>\n",
       "      <td>...</td>\n",
       "      <td>...</td>\n",
       "      <td>...</td>\n",
       "      <td>...</td>\n",
       "      <td>...</td>\n",
       "      <td>...</td>\n",
       "      <td>...</td>\n",
       "      <td>...</td>\n",
       "      <td>...</td>\n",
       "      <td>...</td>\n",
       "      <td>...</td>\n",
       "      <td>...</td>\n",
       "      <td>...</td>\n",
       "      <td>...</td>\n",
       "    </tr>\n",
       "    <tr>\n",
       "      <th>16519</th>\n",
       "      <td>248760</td>\n",
       "      <td>J. Popelard</td>\n",
       "      <td>John Popelard</td>\n",
       "      <td>https://cdn.sofifa.com/players/248/760/21_60.png</td>\n",
       "      <td>http://sofifa.com/player/248760/john-popelard/...</td>\n",
       "      <td>France</td>\n",
       "      <td>34</td>\n",
       "      <td>58</td>\n",
       "      <td>58</td>\n",
       "      <td>\\n\\n\\n\\nFC Chambly Oise</td>\n",
       "      <td>...</td>\n",
       "      <td>45</td>\n",
       "      <td>55</td>\n",
       "      <td>57</td>\n",
       "      <td>49</td>\n",
       "      <td>59</td>\n",
       "      <td>NaN</td>\n",
       "      <td>181</td>\n",
       "      <td>76</td>\n",
       "      <td>2010</td>\n",
       "      <td>11</td>\n",
       "    </tr>\n",
       "    <tr>\n",
       "      <th>16709</th>\n",
       "      <td>219936</td>\n",
       "      <td>M. Al Wakid</td>\n",
       "      <td>Mohammed Al Wakid</td>\n",
       "      <td>https://cdn.sofifa.com/players/219/936/21_60.png</td>\n",
       "      <td>http://sofifa.com/player/219936/mohammed-al-wa...</td>\n",
       "      <td>Saudi Arabia</td>\n",
       "      <td>28</td>\n",
       "      <td>57</td>\n",
       "      <td>57</td>\n",
       "      <td>\\n\\n\\n\\nAl Hilal</td>\n",
       "      <td>...</td>\n",
       "      <td>57</td>\n",
       "      <td>53</td>\n",
       "      <td>55</td>\n",
       "      <td>42</td>\n",
       "      <td>55</td>\n",
       "      <td>NaN</td>\n",
       "      <td>182</td>\n",
       "      <td>82</td>\n",
       "      <td>2009</td>\n",
       "      <td>12</td>\n",
       "    </tr>\n",
       "    <tr>\n",
       "      <th>17021</th>\n",
       "      <td>256950</td>\n",
       "      <td>J. Huysman</td>\n",
       "      <td>Jérémy Huysman</td>\n",
       "      <td>https://cdn.sofifa.com/players/256/950/21_60.png</td>\n",
       "      <td>http://sofifa.com/player/256950/jeremy-huysman...</td>\n",
       "      <td>France</td>\n",
       "      <td>31</td>\n",
       "      <td>57</td>\n",
       "      <td>57</td>\n",
       "      <td>\\n\\n\\n\\nUSL Dunkerque</td>\n",
       "      <td>...</td>\n",
       "      <td>26</td>\n",
       "      <td>30</td>\n",
       "      <td>30</td>\n",
       "      <td>59</td>\n",
       "      <td>67</td>\n",
       "      <td>NaN</td>\n",
       "      <td>188</td>\n",
       "      <td>84</td>\n",
       "      <td>2011</td>\n",
       "      <td>10</td>\n",
       "    </tr>\n",
       "    <tr>\n",
       "      <th>17073</th>\n",
       "      <td>102881</td>\n",
       "      <td>K. Stamatopoulos</td>\n",
       "      <td>Kyriakos Stamatopoulos</td>\n",
       "      <td>https://cdn.sofifa.com/players/102/881/21_60.png</td>\n",
       "      <td>http://sofifa.com/player/102881/kyriakos-stama...</td>\n",
       "      <td>Canada</td>\n",
       "      <td>40</td>\n",
       "      <td>57</td>\n",
       "      <td>57</td>\n",
       "      <td>\\n\\n\\n\\nAIK</td>\n",
       "      <td>...</td>\n",
       "      <td>52</td>\n",
       "      <td>54</td>\n",
       "      <td>56</td>\n",
       "      <td>33</td>\n",
       "      <td>57</td>\n",
       "      <td>NaN</td>\n",
       "      <td>188</td>\n",
       "      <td>80</td>\n",
       "      <td>2011</td>\n",
       "      <td>10</td>\n",
       "    </tr>\n",
       "    <tr>\n",
       "      <th>17186</th>\n",
       "      <td>182037</td>\n",
       "      <td>Yao Hanlin</td>\n",
       "      <td>Hanlin Yao</td>\n",
       "      <td>https://cdn.sofifa.com/players/182/037/21_60.png</td>\n",
       "      <td>http://sofifa.com/player/182037/hanlin-yao/210...</td>\n",
       "      <td>China PR</td>\n",
       "      <td>35</td>\n",
       "      <td>56</td>\n",
       "      <td>56</td>\n",
       "      <td>\\n\\n\\n\\nWuhan Zall</td>\n",
       "      <td>...</td>\n",
       "      <td>57</td>\n",
       "      <td>62</td>\n",
       "      <td>55</td>\n",
       "      <td>44</td>\n",
       "      <td>53</td>\n",
       "      <td>NaN</td>\n",
       "      <td>175</td>\n",
       "      <td>60</td>\n",
       "      <td>2010</td>\n",
       "      <td>11</td>\n",
       "    </tr>\n",
       "  </tbody>\n",
       "</table>\n",
       "<p>320 rows × 81 columns</p>\n",
       "</div>"
      ],
      "text/plain": [
       "           ID              Name                LongName  \\\n",
       "0      158023          L. Messi            Lionel Messi   \n",
       "14     167495          M. Neuer            Manuel Neuer   \n",
       "15     165153        K. Benzema           Karim Benzema   \n",
       "16     155862      Sergio Ramos     Sergio Ramos García   \n",
       "17     153079         S. Agüero           Sergio Agüero   \n",
       "...       ...               ...                     ...   \n",
       "16519  248760       J. Popelard           John Popelard   \n",
       "16709  219936       M. Al Wakid       Mohammed Al Wakid   \n",
       "17021  256950        J. Huysman          Jérémy Huysman   \n",
       "17073  102881  K. Stamatopoulos  Kyriakos Stamatopoulos   \n",
       "17186  182037        Yao Hanlin              Hanlin Yao   \n",
       "\n",
       "                                               photoUrl  \\\n",
       "0      https://cdn.sofifa.com/players/158/023/21_60.png   \n",
       "14     https://cdn.sofifa.com/players/167/495/21_60.png   \n",
       "15     https://cdn.sofifa.com/players/165/153/21_60.png   \n",
       "16     https://cdn.sofifa.com/players/155/862/21_60.png   \n",
       "17     https://cdn.sofifa.com/players/153/079/21_60.png   \n",
       "...                                                 ...   \n",
       "16519  https://cdn.sofifa.com/players/248/760/21_60.png   \n",
       "16709  https://cdn.sofifa.com/players/219/936/21_60.png   \n",
       "17021  https://cdn.sofifa.com/players/256/950/21_60.png   \n",
       "17073  https://cdn.sofifa.com/players/102/881/21_60.png   \n",
       "17186  https://cdn.sofifa.com/players/182/037/21_60.png   \n",
       "\n",
       "                                               playerUrl   Nationality  Age  \\\n",
       "0      http://sofifa.com/player/158023/lionel-messi/2...     Argentina   33   \n",
       "14     http://sofifa.com/player/167495/manuel-neuer/2...       Germany   34   \n",
       "15     http://sofifa.com/player/165153/karim-benzema/...        France   32   \n",
       "16     http://sofifa.com/player/155862/sergio-ramos-g...         Spain   34   \n",
       "17     http://sofifa.com/player/153079/sergio-aguero/...     Argentina   32   \n",
       "...                                                  ...           ...  ...   \n",
       "16519  http://sofifa.com/player/248760/john-popelard/...        France   34   \n",
       "16709  http://sofifa.com/player/219936/mohammed-al-wa...  Saudi Arabia   28   \n",
       "17021  http://sofifa.com/player/256950/jeremy-huysman...        France   31   \n",
       "17073  http://sofifa.com/player/102881/kyriakos-stama...        Canada   40   \n",
       "17186  http://sofifa.com/player/182037/hanlin-yao/210...      China PR   35   \n",
       "\n",
       "       ↓OVA  POT                       Club  ... SHO PAS DRI DEF PHY  Hits  \\\n",
       "0        93   93       \\n\\n\\n\\nFC Barcelona  ...  92  91  95  38  65   771   \n",
       "14       89   89  \\n\\n\\n\\nFC Bayern München  ...  87  91  89  57  86   118   \n",
       "15       89   89        \\n\\n\\n\\nReal Madrid  ...  85  81  86  40  76   216   \n",
       "16       89   89        \\n\\n\\n\\nReal Madrid  ...  70  76  73  88  85   212   \n",
       "17       89   89    \\n\\n\\n\\nManchester City  ...  90  77  88  33  73   154   \n",
       "...     ...  ...                        ...  ...  ..  ..  ..  ..  ..   ...   \n",
       "16519    58   58    \\n\\n\\n\\nFC Chambly Oise  ...  45  55  57  49  59   NaN   \n",
       "16709    57   57           \\n\\n\\n\\nAl Hilal  ...  57  53  55  42  55   NaN   \n",
       "17021    57   57      \\n\\n\\n\\nUSL Dunkerque  ...  26  30  30  59  67   NaN   \n",
       "17073    57   57                \\n\\n\\n\\nAIK  ...  52  54  56  33  57   NaN   \n",
       "17186    56   56         \\n\\n\\n\\nWuhan Zall  ...  57  62  55  44  53   NaN   \n",
       "\n",
       "      Height_cm Weight_kg Joined_year years_with_club  \n",
       "0           170        72        2004              17  \n",
       "14          193        92        2011              10  \n",
       "15          185        81        2009              12  \n",
       "16          184        82        2005              16  \n",
       "17          173        70        2011              10  \n",
       "...         ...       ...         ...             ...  \n",
       "16519       181        76        2010              11  \n",
       "16709       182        82        2009              12  \n",
       "17021       188        84        2011              10  \n",
       "17073       188        80        2011              10  \n",
       "17186       175        60        2010              11  \n",
       "\n",
       "[320 rows x 81 columns]"
      ]
     },
     "execution_count": 18,
     "metadata": {},
     "output_type": "execute_result"
    }
   ],
   "source": [
    "df.loc[df[\"years_with_club\"] >= 10]"
   ]
  },
  {
   "cell_type": "markdown",
   "metadata": {},
   "source": [
    "## Task 4 : 'Value', 'Wage' and \"Release Clause' are string columns. Convert them to numbers"
   ]
  },
  {
   "cell_type": "code",
   "execution_count": 19,
   "metadata": {},
   "outputs": [],
   "source": [
    "def value_to_float(x):\n",
    "    if 'K' in x:\n",
    "        if len(x) > 1:\n",
    "            return float(x.replace('K', '')) * 1000\n",
    "    if 'M' in x:\n",
    "        if len(x) > 1:\n",
    "            return float(x.replace('M', '')) * 1000000\n",
    "    else :\n",
    "        return float(x)\n",
    "    "
   ]
  },
  {
   "cell_type": "code",
   "execution_count": 20,
   "metadata": {},
   "outputs": [],
   "source": [
    "df['Value_EUR'] = df['Value'].apply(lambda x : x.replace('€',''))"
   ]
  },
  {
   "cell_type": "code",
   "execution_count": 21,
   "metadata": {},
   "outputs": [],
   "source": [
    "df['Value_EUR'] = df['Value_EUR'].apply(value_to_float)"
   ]
  },
  {
   "cell_type": "code",
   "execution_count": 22,
   "metadata": {},
   "outputs": [],
   "source": [
    "df['Wage_EUR'] = df['Wage'].apply(lambda x : x.replace('€',''))"
   ]
  },
  {
   "cell_type": "code",
   "execution_count": 23,
   "metadata": {},
   "outputs": [],
   "source": [
    "df['Wage_EUR'] = df['Wage_EUR'].apply(value_to_float)"
   ]
  },
  {
   "cell_type": "markdown",
   "metadata": {},
   "source": [
    "## Task 5 : Some columns have 'star' characters. Strip those columns of these stars and make the columns numerical\n"
   ]
  },
  {
   "cell_type": "markdown",
   "metadata": {},
   "source": [
    "  #### W/F  SM IR"
   ]
  },
  {
   "cell_type": "code",
   "execution_count": null,
   "metadata": {},
   "outputs": [],
   "source": []
  },
  {
   "cell_type": "code",
   "execution_count": 24,
   "metadata": {},
   "outputs": [],
   "source": [
    "df['W/F_N'] = df['W/F'].str.replace('★','')\n",
    "df['W/F_N'] = df['W/F_N'].str.strip()\n",
    "df['W/F_N'] = df['W/F_N'].astype(int)"
   ]
  },
  {
   "cell_type": "code",
   "execution_count": 25,
   "metadata": {},
   "outputs": [],
   "source": [
    "df['SM_N'] = df['SM'].str.replace('★','')\n",
    "df['SM_N'] = df['SM_N'].str.strip()\n",
    "df['SM_N'] = df['SM_N'].astype(int)"
   ]
  },
  {
   "cell_type": "code",
   "execution_count": 26,
   "metadata": {},
   "outputs": [],
   "source": [
    "df['IR_N'] = df['IR'].str.replace('★','')\n",
    "df['IR_N'] = df['IR_N'].str.strip()\n",
    "df['IR_N'] = df['IR_N'].astype(int)"
   ]
  },
  {
   "cell_type": "code",
   "execution_count": null,
   "metadata": {},
   "outputs": [],
   "source": []
  },
  {
   "cell_type": "code",
   "execution_count": null,
   "metadata": {},
   "outputs": [],
   "source": []
  },
  {
   "cell_type": "markdown",
   "metadata": {},
   "source": [
    "### 6 Which players are highly valuable but still underpaid (on low wages)? (hint: scatter plot between wage and value)"
   ]
  },
  {
   "cell_type": "code",
   "execution_count": 27,
   "metadata": {},
   "outputs": [
    {
     "name": "stdout",
     "output_type": "stream",
     "text": [
      "AxesSubplot(0.125,0.125;0.775x0.755)\n"
     ]
    },
    {
     "data": {
      "image/png": "[encoded data removed]",
      "text/plain": [
       "<Figure size 432x288 with 1 Axes>"
      ]
     },
     "metadata": {
      "needs_background": "light"
     },
     "output_type": "display_data"
    }
   ],
   "source": [
    "ax1 = df.plot(kind='scatter', x='Value_EUR', y='Wage_EUR', color='r',style='o')    \n",
    "\n",
    "print(ax1)  # True"
   ]
  },
  {
   "cell_type": "code",
   "execution_count": null,
   "metadata": {},
   "outputs": [],
   "source": []
  },
  {
   "cell_type": "code",
   "execution_count": 28,
   "metadata": {},
   "outputs": [],
   "source": [
    "df.to_csv('fifa21 raw data after analyzing.csv')"
   ]
  },
  {
   "cell_type": "code",
   "execution_count": null,
   "metadata": {},
   "outputs": [],
   "source": []
  },
  {
   "cell_type": "code",
   "execution_count": null,
   "metadata": {},
   "outputs": [],
   "source": []
  },
  {
   "cell_type": "code",
   "execution_count": null,
   "metadata": {},
   "outputs": [],
   "source": []
  }
 ],
 "metadata": {
  "kernelspec": {
   "display_name": "Python 3",
   "language": "python",
   "name": "python3"
  },
  "language_info": {
   "codemirror_mode": {
    "name": "ipython",
    "version": 3
   },
   "file_extension": ".py",
   "mimetype": "text/x-python",
   "name": "python",
   "nbconvert_exporter": "python",
   "pygments_lexer": "ipython3",
   "version": "3.7.6"
  }
 },
 "nbformat": 4,
 "nbformat_minor": 4
}
